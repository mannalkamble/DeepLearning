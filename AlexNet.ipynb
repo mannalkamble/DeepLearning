{
  "cells": [
    {
      "cell_type": "markdown",
      "metadata": {
        "id": "NF2IR5u8-0xo"
      },
      "source": [
        "# AlexNet\n",
        "\n",
        "Training a deep convolutional neural network to perform image classification. This is a slight variation of a network called *AlexNet*. This is a landmark model in deep learning, and arguably kickstarted the current (and ongoing, and massive) wave of innovation in modern AI when its results were first presented in 2012. AlexNet was the first real-world demonstration of a *deep* classifier that was trained end-to-end on data and that outperformed all other ML models thus far.\n",
        "\n",
        "We will train AlexNet using the [CIFAR10](https://www.cs.toronto.edu/~kriz/cifar.html) dataset, which consists of 60000 32x32 colour images in 10 classes, with 6000 images per class. The classes are: airplane, automobile, bird, cat, deer, dog, frog, horse, ship, truck.\n",
        "\n",
        "![](https://storage.googleapis.com/kaggle-competitions/kaggle/3649/media/cifar-10.png)\n",
        "\n"
      ]
    },
    {
      "cell_type": "code",
      "execution_count": null,
      "metadata": {
        "id": "XYaxtUEgIafG"
      },
      "outputs": [],
      "source": [
        "import torch\n",
        "import torch.nn as nn\n",
        "import torch.nn.functional as F\n",
        "import torch.optim as optim\n",
        "from torch.optim.lr_scheduler import _LRScheduler\n",
        "import torch.utils.data as data\n",
        "\n",
        "import torchvision.transforms as transforms\n",
        "import torchvision.datasets as datasets\n",
        "\n",
        "from sklearn import decomposition\n",
        "from sklearn import manifold\n",
        "from sklearn.metrics import confusion_matrix\n",
        "from sklearn.metrics import ConfusionMatrixDisplay\n",
        "import matplotlib.pyplot as plt\n",
        "import numpy as np\n",
        "\n",
        "import copy\n",
        "import random\n",
        "import time"
      ]
    },
    {
      "cell_type": "code",
      "execution_count": null,
      "metadata": {
        "id": "QfZxvR09IafJ"
      },
      "outputs": [],
      "source": [
        "SEED = 1234\n",
        "\n",
        "random.seed(SEED)\n",
        "np.random.seed(SEED)\n",
        "torch.manual_seed(SEED)\n",
        "torch.cuda.manual_seed(SEED)\n",
        "torch.backends.cudnn.deterministic = True"
      ]
    },
    {
      "cell_type": "markdown",
      "metadata": {
        "id": "uecfsf1f-0xw"
      },
      "source": [
        "# Loading and Preparing the Data\n",
        "\n",
        "\n",
        "Our dataset is made up of color images but three color channels (red, green and blue), compared to MNIST's black and white images with a single color channel. To normalize our data we need to calculate the means and standard deviations for each of the color channels independently, and  normalize them."
      ]
    },
    {
      "cell_type": "code",
      "execution_count": null,
      "metadata": {
        "colab": {
          "base_uri": "https://localhost:8080/"
        },
        "id": "IprUgI0fIafN",
        "outputId": "4f91f222-534c-4549-8e03-08a131aba36b"
      },
      "outputs": [
        {
          "name": "stdout",
          "output_type": "stream",
          "text": [
            "Downloading https://www.cs.toronto.edu/~kriz/cifar-10-python.tar.gz to .data/cifar-10-python.tar.gz\n"
          ]
        },
        {
          "name": "stderr",
          "output_type": "stream",
          "text": [
            "100%|██████████| 170498071/170498071 [00:12<00:00, 13548236.01it/s]\n"
          ]
        },
        {
          "name": "stdout",
          "output_type": "stream",
          "text": [
            "Extracting .data/cifar-10-python.tar.gz to .data\n"
          ]
        }
      ],
      "source": [
        "ROOT = '.data'\n",
        "train_data = datasets.CIFAR10(root = ROOT,\n",
        "                              train = True,\n",
        "                              download = True)"
      ]
    },
    {
      "cell_type": "code",
      "execution_count": null,
      "metadata": {
        "id": "XHtfspCrLZXB"
      },
      "outputs": [],
      "source": [
        "# Compute means and standard deviations along the R,G,B channel\n",
        "\n",
        "means = train_data.data.mean(axis = (0,1,2)) / 255\n",
        "stds = train_data.data.std(axis = (0,1,2)) / 255"
      ]
    },
    {
      "cell_type": "markdown",
      "metadata": {
        "id": "ajVaWn_7-0x0"
      },
      "source": [
        "Next, we will do data augmentation. For each training image we will randomly rotate it (by up to 5 degrees), flip/mirror with probability 0.5, shift by +/-1 pixel. Finally we will normalize each color channel using the means/stds we calculated above."
      ]
    },
    {
      "cell_type": "code",
      "execution_count": null,
      "metadata": {
        "id": "tfzKdrpfIafR"
      },
      "outputs": [],
      "source": [
        "train_transforms = transforms.Compose([\n",
        "                           transforms.RandomRotation(5),\n",
        "                           transforms.RandomHorizontalFlip(0.5),\n",
        "                           transforms.RandomCrop(32, padding = 2),\n",
        "                           transforms.ToTensor(),\n",
        "                           transforms.Normalize(mean = means,\n",
        "                                                std = stds)\n",
        "                       ])\n",
        "\n",
        "test_transforms = transforms.Compose([\n",
        "                           transforms.ToTensor(),\n",
        "                           transforms.Normalize(mean = means,\n",
        "                                                std = stds)\n",
        "                       ])"
      ]
    },
    {
      "cell_type": "markdown",
      "metadata": {
        "id": "TPLqEffl-0x3"
      },
      "source": [
        "Next, we'll load the dataset along with the transforms defined above.\n",
        "\n",
        "We will also create a validation set with 10\\% of the training samples. The validation set will be used to monitor loss along different epochs, and we will pick the model along the optimization path that performed the best, and report final test accuracy numbers using this model."
      ]
    },
    {
      "cell_type": "code",
      "execution_count": null,
      "metadata": {
        "colab": {
          "base_uri": "https://localhost:8080/"
        },
        "id": "vqxev2wBIafU",
        "outputId": "56b5709e-e998-409b-903f-325092585899"
      },
      "outputs": [
        {
          "name": "stdout",
          "output_type": "stream",
          "text": [
            "Files already downloaded and verified\n",
            "Files already downloaded and verified\n"
          ]
        }
      ],
      "source": [
        "train_data = datasets.CIFAR10(ROOT,\n",
        "                              train = True,\n",
        "                              download = True,\n",
        "                              transform = train_transforms)\n",
        "\n",
        "test_data = datasets.CIFAR10(ROOT,\n",
        "                             train = False,\n",
        "                             download = True,\n",
        "                             transform = test_transforms)"
      ]
    },
    {
      "cell_type": "code",
      "execution_count": null,
      "metadata": {
        "id": "NyMEMaDUIafX"
      },
      "outputs": [],
      "source": [
        "VALID_RATIO = 0.9\n",
        "\n",
        "n_train_examples = int(len(train_data) * VALID_RATIO)\n",
        "n_valid_examples = len(train_data) - n_train_examples\n",
        "\n",
        "train_data, valid_data = data.random_split(train_data,\n",
        "                                           [n_train_examples, n_valid_examples])"
      ]
    },
    {
      "cell_type": "code",
      "execution_count": null,
      "metadata": {
        "id": "sKvCJ2_EQUgD"
      },
      "outputs": [],
      "source": [
        "valid_data = copy.deepcopy(valid_data)\n",
        "valid_data.dataset.transform = test_transforms"
      ]
    },
    {
      "cell_type": "markdown",
      "metadata": {
        "id": "eQq6BaNr-0yE"
      },
      "source": [
        "Now, we'll create a function to plot some of the images in our dataset to see what they actually look like.\n",
        "\n",
        "Note that by default PyTorch handles images that are arranged `[channel, height, width]`, but `matplotlib` expects images to be `[height, width, channel]`, hence we need to permute the dimensions of our images before plotting them."
      ]
    },
    {
      "cell_type": "code",
      "execution_count": null,
      "metadata": {
        "id": "KVwZrsXpcUSB"
      },
      "outputs": [],
      "source": [
        "def plot_images(images, labels, classes, normalize = False):\n",
        "\n",
        "    n_images = len(images)\n",
        "\n",
        "    rows = int(np.sqrt(n_images))\n",
        "    cols = int(np.sqrt(n_images))\n",
        "\n",
        "    fig = plt.figure(figsize = (10, 10))\n",
        "\n",
        "    for i in range(rows*cols):\n",
        "\n",
        "        ax = fig.add_subplot(rows, cols, i+1)\n",
        "\n",
        "        image = images[i]\n",
        "\n",
        "        if normalize:\n",
        "            image_min = image.min()\n",
        "            image_max = image.max()\n",
        "            image.clamp_(min = image_min, max = image_max)\n",
        "            image.add_(-image_min).div_(image_max - image_min + 1e-5)\n",
        "\n",
        "        ax.imshow(image.permute(1, 2, 0).cpu().numpy())\n",
        "        ax.set_title(classes[labels[i]])\n",
        "        ax.axis('off')"
      ]
    },
    {
      "cell_type": "markdown",
      "metadata": {
        "id": "tXe4GSO7-0yH"
      },
      "source": [
        "One point here: `matplotlib` is expecting the values of every pixel to be between $[0, 1]$, however our normalization will cause them to be outside this range. By default `matplotlib` will then clip these values into the $[0,1]$ range. This clipping causes all of the images to look a bit weird - all of the colors are oversaturated. The solution is to normalize each image between [0,1]."
      ]
    },
    {
      "cell_type": "code",
      "execution_count": null,
      "metadata": {
        "id": "A6piM5oUcZIY"
      },
      "outputs": [],
      "source": [
        "N_IMAGES = 25\n",
        "\n",
        "images, labels = zip(*[(image, label) for image, label in\n",
        "                           [train_data[i] for i in range(N_IMAGES)]])\n",
        "\n",
        "classes = test_data.classes"
      ]
    },
    {
      "cell_type": "code",
      "execution_count": null,
      "metadata": {
        "colab": {
          "base_uri": "https://localhost:8080/",
          "height": 829
        },
        "id": "-ZFsMsmajw8R",
        "outputId": "eb9ca9be-0dbc-48a9-887f-8ad2d611ca6d"
      },
      "outputs": [
        {
          "data": {
            "image/png": "[encoded data removed]",
            "text/plain": [
              "<Figure size 1000x1000 with 25 Axes>"
            ]
          },
          "metadata": {},
          "output_type": "display_data"
        }
      ],
      "source": [
        "plot_images(images, labels, classes, normalize = True)"
      ]
    },
    {
      "cell_type": "markdown",
      "metadata": {
        "id": "bAFVQhu4-0yN"
      },
      "source": [
        "We'll be normalizing our images by default from now on, so we'll write a function that does it for us which we can use whenever we need to renormalize an image."
      ]
    },
    {
      "cell_type": "code",
      "execution_count": null,
      "metadata": {
        "id": "gVDM7PTCswBx"
      },
      "outputs": [],
      "source": [
        "def normalize_image(image):\n",
        "    image_min = image.min()\n",
        "    image_max = image.max()\n",
        "    image.clamp_(min = image_min, max = image_max)\n",
        "    image.add_(-image_min).div_(image_max - image_min + 1e-5)\n",
        "    return image"
      ]
    },
    {
      "cell_type": "markdown",
      "metadata": {
        "id": "BL_2X7ZF-0yl"
      },
      "source": [
        "The final bit of the data processing is creating the iterators. We will use a large. Generally, a larger batch size means that our model trains faster but is a bit more susceptible to overfitting."
      ]
    },
    {
      "cell_type": "code",
      "execution_count": null,
      "metadata": {
        "id": "o3rhhD0HIaff"
      },
      "outputs": [],
      "source": [
        "# Q1: Create data loaders for train_data, valid_data, test_data\n",
        "# Use batch size 256\n",
        "\n",
        "\n",
        "BATCH_SIZE = 256\n",
        "\n",
        "train_iterator =  torch.utils.data.DataLoader(train_data, batch_size=BATCH_SIZE, shuffle=True)\n",
        "\n",
        "valid_iterator = torch.utils.data.DataLoader(valid_data, batch_size=BATCH_SIZE, shuffle=False)\n",
        "\n",
        "test_iterator = torch.utils.data.DataLoader(test_data, batch_size=BATCH_SIZE, shuffle=False)"
      ]
    },
    {
      "cell_type": "markdown",
      "metadata": {
        "id": "98q8mpRN-0yp"
      },
      "source": [
        "### Defining the Model\n",
        "\n",
        "Next up is defining the model.\n",
        "\n",
        "AlexNet will have the following architecture:\n",
        "\n",
        "* There are 5 2D convolutional layers (which serve as *feature extractors*), followed by 3 linear layers (which serve as the *classifier*).\n",
        "* All layers (except the last one) have `ReLU` activations. (Use `inplace=True` while defining your ReLUs.)\n",
        "* All convolutional filter sizes have kernel size 3 x 3 and padding 1.\n",
        "* Convolutional layer 1 has stride 2. All others have the default stride (1).\n",
        "* Convolutional layers 1,2, and 5 are followed by a 2D maxpool of size 2.\n",
        "* Linear layers 1 and 2 are preceded by Dropouts with Bernoulli parameter 0.5.\n",
        "\n",
        "* For the convolutional layers, the number of channels is set as follows. We start with 3 channels and then proceed like this:\n",
        "\n",
        "  - $3 \\rightarrow 64 \\rightarrow 192 \\rightarrow384\\rightarrow256\\rightarrow 256$\n",
        "\n",
        "  In the end, if everything is correct you should get a feature map of size $ 2\\times2 \\times 256 = 1024$.\n",
        "\n",
        "* For the linear layers, the feature sizes are as follows:\n",
        "\n",
        "  - $1024 \\rightarrow 4096 \\rightarrow 4096 \\rightarrow 10$.\n",
        "\n",
        "  (The 10, of course, is because 10 is the number of classes in CIFAR-10)."
      ]
    },
    {
      "cell_type": "code",
      "execution_count": null,
      "metadata": {
        "id": "sQq-LE22Iafk"
      },
      "outputs": [],
      "source": [
        "class AlexNet(nn.Module):\n",
        "    def __init__(self, output_dim):\n",
        "        super().__init__()\n",
        "\n",
        "        self.features = nn.Sequential(\n",
        "            # Define according to the steps described above\n",
        "            nn.Conv2d(3, 64, kernel_size=3, stride =2, padding =1),\n",
        "            nn.ReLU(inplace=True),\n",
        "            nn.MaxPool2d(kernel_size=2),\n",
        "            nn.Conv2d( 64 , 192 , kernel_size=3, padding=1 ),\n",
        "            nn.ReLU(inplace=True ),\n",
        "            nn.MaxPool2d(kernel_size=2),\n",
        "            nn.Conv2d(192,384 , kernel_size=3 , padding=1 ),\n",
        "            nn.ReLU(inplace=True ),\n",
        "            nn.Conv2d(384,256 , kernel_size=3 , padding=1 ),\n",
        "            nn.ReLU(inplace=True ),\n",
        "            nn.Conv2d(256, 256 , kernel_size=3 , padding=1 ),\n",
        "            nn.ReLU(inplace=True ),\n",
        "            nn.MaxPool2d(kernel_size=2)\n",
        "        )\n",
        "\n",
        "        self.classifier = nn.Sequential(\n",
        "            # define according to the steps described above\n",
        "            nn.Dropout(p=0.5 ),\n",
        "            nn.Linear( 2*2*256 , 4096 ),\n",
        "            nn.ReLU(inplace=True ),\n",
        "            nn.Dropout(p=0.5 ),\n",
        "            nn.Linear( 4096 , 4096 ),\n",
        "            nn.ReLU(inplace=True ),\n",
        "            nn.Linear( 4096 , output_dim),\n",
        "        )\n",
        "\n",
        "    def forward(self, x):\n",
        "        x = self.features(x)\n",
        "        h = x.view(x.shape[0], -1)\n",
        "        x = self.classifier(h)\n",
        "        return x, h"
      ]
    },
    {
      "cell_type": "markdown",
      "metadata": {
        "id": "IBMS4TH4XVow"
      },
      "source": [
        "We'll create an instance of our model with the desired amount of classes."
      ]
    },
    {
      "cell_type": "code",
      "execution_count": null,
      "metadata": {
        "id": "y-sDcYnBIafp"
      },
      "outputs": [],
      "source": [
        "OUTPUT_DIM = 10\n",
        "model = AlexNet(OUTPUT_DIM)"
      ]
    },
    {
      "cell_type": "markdown",
      "metadata": {
        "id": "n99m5MPZXVo1"
      },
      "source": [
        "### Training the Model\n",
        "\n",
        "We first initialize parameters in PyTorch by creating a function that takes in a PyTorch module, checking what type of module it is, and then using the `nn.init` methods to actually initialize the parameters.\n",
        "\n",
        "For convolutional layers we will initialize using the *Kaiming Normal* scheme, also known as *He Normal*. For the linear layers we initialize using the *Xavier Normal* scheme, also known as *Glorot Normal*. For both types of layer we initialize the bias terms to zeros.\n",
        "\n"
      ]
    },
    {
      "cell_type": "code",
      "execution_count": null,
      "metadata": {
        "id": "I4NbFid9Iafw"
      },
      "outputs": [],
      "source": [
        "def initialize_parameters(m):\n",
        "    if isinstance(m, nn.Conv2d):\n",
        "        nn.init.kaiming_normal_(m.weight.data, nonlinearity = 'relu')\n",
        "        nn.init.constant_(m.bias.data, 0)\n",
        "    elif isinstance(m, nn.Linear):\n",
        "        nn.init.xavier_normal_(m.weight.data, gain = nn.init.calculate_gain('relu'))\n",
        "        nn.init.constant_(m.bias.data, 0)"
      ]
    },
    {
      "cell_type": "markdown",
      "metadata": {
        "id": "8SkSdnytXVo3"
      },
      "source": [
        "We apply the initialization by using the model's `apply` method. If your definitions above are correct you should get the printed output as below."
      ]
    },
    {
      "cell_type": "code",
      "execution_count": null,
      "metadata": {
        "colab": {
          "base_uri": "https://localhost:8080/"
        },
        "id": "Bve8IsHsIafz",
        "outputId": "8169a37b-698f-4168-e9c9-a44b0a2cbad6"
      },
      "outputs": [
        {
          "data": {
            "text/plain": [
              "AlexNet(\n",
              "  (features): Sequential(\n",
              "    (0): Conv2d(3, 64, kernel_size=(3, 3), stride=(2, 2), padding=(1, 1))\n",
              "    (1): ReLU(inplace=True)\n",
              "    (2): MaxPool2d(kernel_size=2, stride=2, padding=0, dilation=1, ceil_mode=False)\n",
              "    (3): Conv2d(64, 192, kernel_size=(3, 3), stride=(1, 1), padding=(1, 1))\n",
              "    (4): ReLU(inplace=True)\n",
              "    (5): MaxPool2d(kernel_size=2, stride=2, padding=0, dilation=1, ceil_mode=False)\n",
              "    (6): Conv2d(192, 384, kernel_size=(3, 3), stride=(1, 1), padding=(1, 1))\n",
              "    (7): ReLU(inplace=True)\n",
              "    (8): Conv2d(384, 256, kernel_size=(3, 3), stride=(1, 1), padding=(1, 1))\n",
              "    (9): ReLU(inplace=True)\n",
              "    (10): Conv2d(256, 256, kernel_size=(3, 3), stride=(1, 1), padding=(1, 1))\n",
              "    (11): ReLU(inplace=True)\n",
              "    (12): MaxPool2d(kernel_size=2, stride=2, padding=0, dilation=1, ceil_mode=False)\n",
              "  )\n",
              "  (classifier): Sequential(\n",
              "    (0): Dropout(p=0.5, inplace=False)\n",
              "    (1): Linear(in_features=1024, out_features=4096, bias=True)\n",
              "    (2): ReLU(inplace=True)\n",
              "    (3): Dropout(p=0.5, inplace=False)\n",
              "    (4): Linear(in_features=4096, out_features=4096, bias=True)\n",
              "    (5): ReLU(inplace=True)\n",
              "    (6): Linear(in_features=4096, out_features=10, bias=True)\n",
              "  )\n",
              ")"
            ]
          },
          "execution_count": 17,
          "metadata": {},
          "output_type": "execute_result"
        }
      ],
      "source": [
        "model.apply(initialize_parameters)"
      ]
    },
    {
      "cell_type": "markdown",
      "metadata": {
        "id": "o-5vb3-dXVo8"
      },
      "source": [
        "\n",
        "\n",
        "We then define the loss function we want to use, the device we'll use and place our model and criterion on to our device."
      ]
    },
    {
      "cell_type": "code",
      "execution_count": null,
      "metadata": {
        "id": "P6hTusQNIagD"
      },
      "outputs": [],
      "source": [
        "optimizer = optim.Adam(model.parameters(), lr = 1e-3)\n",
        "device = torch.device('cuda' if torch.cuda.is_available() else 'cpu')\n",
        "criterion = nn.CrossEntropyLoss()\n",
        "\n",
        "model = model.to(device)\n",
        "criterion = criterion.to(device)\n"
      ]
    },
    {
      "cell_type": "markdown",
      "metadata": {
        "id": "9HoBM4KEXVpS"
      },
      "source": [
        "\n",
        "\n",
        "```\n",
        "# This is formatted as code\n",
        "```\n",
        "\n",
        "We define a function to calculate accuracy..."
      ]
    },
    {
      "cell_type": "code",
      "execution_count": null,
      "metadata": {
        "id": "TJj9fQ5WIagI"
      },
      "outputs": [],
      "source": [
        "def calculate_accuracy(y_pred, y):\n",
        "    top_pred = y_pred.argmax(1, keepdim = True)\n",
        "    correct = top_pred.eq(y.view_as(top_pred)).sum()\n",
        "    acc = correct.float() / y.shape[0]\n",
        "    return acc"
      ]
    },
    {
      "cell_type": "markdown",
      "metadata": {
        "id": "WGjesEGDXVpV"
      },
      "source": [
        "\n",
        "\n",
        "As we are using dropout we need to make sure to \"turn it on\" when training by using `model.train()`."
      ]
    },
    {
      "cell_type": "code",
      "execution_count": null,
      "metadata": {
        "id": "e65mN1cGIagK"
      },
      "outputs": [],
      "source": [
        "def train(model, iterator, optimizer, criterion, device):\n",
        "\n",
        "    epoch_loss = 0\n",
        "    epoch_acc = 0\n",
        "\n",
        "    model.train()\n",
        "\n",
        "    for (x, y) in iterator:\n",
        "\n",
        "        x = x.to(device)\n",
        "        y = y.to(device)\n",
        "\n",
        "        optimizer.zero_grad()\n",
        "\n",
        "        y_pred, _ = model(x)\n",
        "\n",
        "        loss = criterion(y_pred, y)\n",
        "\n",
        "        acc = calculate_accuracy(y_pred, y)\n",
        "\n",
        "        loss.backward()\n",
        "\n",
        "        optimizer.step()\n",
        "\n",
        "        epoch_loss += loss.item()\n",
        "        epoch_acc += acc.item()\n",
        "\n",
        "    return epoch_loss / len(iterator), epoch_acc / len(iterator)"
      ]
    },
    {
      "cell_type": "markdown",
      "metadata": {
        "id": "U0usLljsXVpY"
      },
      "source": [
        "We also define an evaluation loop, making sure to \"turn off\" dropout with `model.eval()`."
      ]
    },
    {
      "cell_type": "code",
      "execution_count": null,
      "metadata": {
        "id": "gnUhGD9MIagM"
      },
      "outputs": [],
      "source": [
        "def evaluate(model, iterator, criterion, device):\n",
        "\n",
        "    epoch_loss = 0\n",
        "    epoch_acc = 0\n",
        "\n",
        "    model.eval()\n",
        "\n",
        "    with torch.no_grad():\n",
        "\n",
        "        for (x, y) in iterator:\n",
        "\n",
        "            x = x.to(device)\n",
        "            y = y.to(device)\n",
        "\n",
        "            y_pred, _ = model(x)\n",
        "\n",
        "            loss = criterion(y_pred, y)\n",
        "\n",
        "            acc = calculate_accuracy(y_pred, y)\n",
        "\n",
        "            epoch_loss += loss.item()\n",
        "            epoch_acc += acc.item()\n",
        "\n",
        "    return epoch_loss / len(iterator), epoch_acc / len(iterator)"
      ]
    },
    {
      "cell_type": "markdown",
      "metadata": {
        "id": "MkkzHBcoXVpa"
      },
      "source": [
        "Next, we define a function to tell us how long an epoch takes."
      ]
    },
    {
      "cell_type": "code",
      "execution_count": null,
      "metadata": {
        "id": "RX-Mwze-IagO"
      },
      "outputs": [],
      "source": [
        "def epoch_time(start_time, end_time):\n",
        "    elapsed_time = end_time - start_time\n",
        "    elapsed_mins = int(elapsed_time / 60)\n",
        "    elapsed_secs = int(elapsed_time - (elapsed_mins * 60))\n",
        "    return elapsed_mins, elapsed_secs"
      ]
    },
    {
      "cell_type": "markdown",
      "metadata": {
        "id": "53srBoLAXVpe"
      },
      "source": [
        "Then, finally, we train our model.\n",
        "\n",
        "Train it for 25 epochs (using the train dataset). At the end of each epoch, compute the validation loss and keep track of the best model. "
      ]
    },
    {
      "cell_type": "code",
      "execution_count": null,
      "metadata": {
        "colab": {
          "base_uri": "https://localhost:8080/",
          "height": 510,
          "referenced_widgets": [
            "7a94d6ea983a40feb25bc1d0e89abc0c",
            "15fb5d7717ea40a99547a1aef1dedfa0",
            "e38983e45b0048218535f5136f2f8831",
            "b4372499a1c44a7a879c79cb0283ddb2",
            "3011be9accc14c6c8b5569297f942fe2",
            "1f79dd1f57894506845b5d9a948501b6",
            "59732646ced94b7da14f6860cf24cade",
            "6e82f257241044d3b219b751fc8db706",
            "fd747c0a190346829e35abfce635c0fb",
            "d4c21ba002e6469c81fe8ae6ee3b2b18",
            "29d08467e94744ee9415fc583b193cbe"
          ]
        },
        "id": "mN02GOocIagR",
        "outputId": "57d9feda-3160-4012-c42c-57789c16bfe7"
      },
      "outputs": [
        {
          "data": {
            "application/vnd.jupyter.widget-view+json": {
              "model_id": "7a94d6ea983a40feb25bc1d0e89abc0c",
              "version_major": 2,
              "version_minor": 0
            },
            "text/plain": [
              "Epochs:   0%|          | 0/25 [00:00<?, ?it/s]"
            ]
          },
          "metadata": {},
          "output_type": "display_data"
        },
        {
          "name": "stdout",
          "output_type": "stream",
          "text": [
            "Epoch: 01 | Time:  39s | Train Loss:  2.374 | Train Ace:  0.21% | Val. Loss:1.617 | Val. Acc: 0.38%\n",
            "Epoch: 02 | Time:  33s | Train Loss:  1.553 | Train Ace:  0.42% | Val. Loss:1.374 | Val. Acc: 0.50%\n",
            "Epoch: 03 | Time:  32s | Train Loss:  1.367 | Train Ace:  0.50% | Val. Loss:1.269 | Val. Acc: 0.54%\n",
            "Epoch: 04 | Time:  31s | Train Loss:  1.260 | Train Ace:  0.55% | Val. Loss:1.167 | Val. Acc: 0.59%\n",
            "Epoch: 05 | Time:  32s | Train Loss:  1.171 | Train Ace:  0.58% | Val. Loss:1.106 | Val. Acc: 0.61%\n",
            "Epoch: 06 | Time:  32s | Train Loss:  1.105 | Train Ace:  0.61% | Val. Loss:1.036 | Val. Acc: 0.63%\n",
            "Epoch: 07 | Time:  32s | Train Loss:  1.067 | Train Ace:  0.62% | Val. Loss:0.993 | Val. Acc: 0.65%\n",
            "Epoch: 08 | Time:  32s | Train Loss:  1.006 | Train Ace:  0.65% | Val. Loss:0.942 | Val. Acc: 0.67%\n",
            "Epoch: 09 | Time:  32s | Train Loss:  0.971 | Train Ace:  0.66% | Val. Loss:0.921 | Val. Acc: 0.68%\n",
            "Epoch: 10 | Time:  32s | Train Loss:  0.924 | Train Ace:  0.68% | Val. Loss:0.886 | Val. Acc: 0.70%\n",
            "Epoch: 11 | Time:  32s | Train Loss:  0.897 | Train Ace:  0.69% | Val. Loss:0.865 | Val. Acc: 0.71%\n",
            "Epoch: 12 | Time:  32s | Train Loss:  0.865 | Train Ace:  0.70% | Val. Loss:0.887 | Val. Acc: 0.70%\n",
            "Epoch: 13 | Time:  32s | Train Loss:  0.847 | Train Ace:  0.71% | Val. Loss:0.858 | Val. Acc: 0.71%\n",
            "Epoch: 14 | Time:  32s | Train Loss:  0.820 | Train Ace:  0.72% | Val. Loss:0.824 | Val. Acc: 0.72%\n",
            "Epoch: 15 | Time:  32s | Train Loss:  0.803 | Train Ace:  0.72% | Val. Loss:0.810 | Val. Acc: 0.73%\n",
            "Epoch: 16 | Time:  31s | Train Loss:  0.780 | Train Ace:  0.73% | Val. Loss:0.764 | Val. Acc: 0.74%\n",
            "Epoch: 17 | Time:  32s | Train Loss:  0.762 | Train Ace:  0.74% | Val. Loss:0.775 | Val. Acc: 0.73%\n",
            "Epoch: 18 | Time:  32s | Train Loss:  0.741 | Train Ace:  0.74% | Val. Loss:0.771 | Val. Acc: 0.74%\n",
            "Epoch: 19 | Time:  31s | Train Loss:  0.723 | Train Ace:  0.75% | Val. Loss:0.747 | Val. Acc: 0.75%\n",
            "Epoch: 20 | Time:  32s | Train Loss:  0.714 | Train Ace:  0.76% | Val. Loss:0.744 | Val. Acc: 0.75%\n",
            "Epoch: 21 | Time:  31s | Train Loss:  0.690 | Train Ace:  0.76% | Val. Loss:0.726 | Val. Acc: 0.76%\n",
            "Epoch: 22 | Time:  32s | Train Loss:  0.680 | Train Ace:  0.76% | Val. Loss:0.735 | Val. Acc: 0.76%\n",
            "Epoch: 23 | Time:  32s | Train Loss:  0.661 | Train Ace:  0.77% | Val. Loss:0.722 | Val. Acc: 0.76%\n",
            "Epoch: 24 | Time:  31s | Train Loss:  0.650 | Train Ace:  0.78% | Val. Loss:0.717 | Val. Acc: 0.76%\n",
            "Epoch: 25 | Time:  32s | Train Loss:  0.635 | Train Ace:  0.78% | Val. Loss:0.708 | Val. Acc: 0.76%\n"
          ]
        }
      ],
      "source": [
        "# Q3: train your model here for 25 epochs.\n",
        "# Print out training and validation loss/accuracy of the model after each epoch\n",
        "# Keep track of the model that achieved best validation loss thus far.\n",
        "from tqdm.auto import tqdm\n",
        "#Number of epochs being run are 25\n",
        "#We are initializing the best validation loss with infinity, so that the first case is icluded and thereon would be handled below\n",
        "EPOCHS = 25\n",
        "best_valid_loss = np.inf\n",
        "best_case = None\n",
        "#Running the for loop for all the epochs\n",
        "for epoch in tqdm( range (EPOCHS), desc='Epochs' ):\n",
        "  start_time = time.perf_counter()\n",
        "#Training the model on train data and evaluating on the validation data and\n",
        "#printing it to measure if the accuracy is close to 76% as mentioned.\n",
        "  train_loss, train_acc = train(model, train_iterator, optimizer, criterion, device)\n",
        "  valid_loss, valid_acc = evaluate(model, valid_iterator, criterion, device)\n",
        "  end_time = time.perf_counter()\n",
        "  epoch_time = end_time - start_time\n",
        "#The following logic is used to keep track of the best validation loss case.\n",
        "  if valid_loss < best_valid_loss:\n",
        "    best_valid_loss = valid_loss\n",
        "    best_case = model.state_dict()\n",
        "    torch. save ( best_case, 'best_case.pth' )\n",
        "#Printing out the training and validation loss/accuracy of the model after each epoch\n",
        "  tqdm.write( f\"Epoch: {epoch+1:02} | Time: {epoch_time : .0f}s | Train Loss: {train_loss : .3f} | Train Ace: {train_acc : .2f}% | Val. Loss:{valid_loss:.3f} | Val. Acc: {valid_acc:.2f}%\" )\n",
        "  {\"model - id\" : \"a7f6e3246d2f49c58b430dcf3c9a3816\",\"version_major\" :2, \"vers ion_minor\" :0}\n"
      ]
    },
    {
      "cell_type": "markdown",
      "metadata": {
        "id": "A7h-D2bEXVph"
      },
      "source": [
        "# Evaluating the model\n",
        "\n",
        "\n",
        "We then load the parameters of our model that achieved the best validation loss. You should expect to see ~75% accuracy of this model on the test dataset.\n",
        "\n",
        "Finally, plot the confusion matrix of this model and comment on any interesting patterns you can observe there. For example, which two classes are confused the most?\n",
        "\n"
      ]
    },
    {
      "cell_type": "code",
      "execution_count": null,
      "metadata": {
        "id": "G6DndUWO1j9v"
      },
      "outputs": [],
      "source": [
        "def get_predictions(model, iterator, device):\n",
        "\n",
        "    model.eval()\n",
        "\n",
        "    labels = []\n",
        "    probs = []\n",
        "\n",
        "    # Q4: Fill code here.\n",
        "    with torch.no_grad():\n",
        "      # Looping over the batches in the iterator with a progress bar\n",
        "      for inputs, targets in tqdm(iterator, desc=\"Evaluating\" ,leave=False ):\n",
        "      #Shifting the inputs and targets to GPU\n",
        "        inputs, targets = inputs.cuda(), targets.cuda()\n",
        "        # Computing the predicted probabilities for the batch using the our trained alexnet model\n",
        "        prob = F.softmax(model(inputs)[ 0], dim=1 )\n",
        "        # Appending the true labels and predicted probabilities forhe batch to thier respective lists\n",
        "        labels.append(targets)\n",
        "        probs.append(prob)\n",
        "\n",
        "    labels = torch.cat(labels, dim = 0)\n",
        "    probs = torch.cat(probs, dim = 0)\n",
        "\n",
        "    predictions = probs.argmax(dim=1 )\n",
        "    accuracy = (predictions == labels) . sum ().item() / len (labels)\n",
        "    # Printing the accuracy\n",
        "    print (f\"Accuracy: {accuracy : .2%} \")\n",
        "    return labels, probs"
      ]
    },
    {
      "cell_type": "code",
      "execution_count": null,
      "metadata": {
        "colab": {
          "base_uri": "https://localhost:8080/",
          "height": 35,
          "referenced_widgets": [
            "fa34a934d66c4b9789802da2adc990a3",
            "a2fc8ac60df743d6bae4dc64df8ab9e6",
            "113a55084d504b8a8cc9c70480036707",
            "d136015999454c0a94bcd850f63c1137",
            "6577172d3975435c933364f9150a0657",
            "1f14a55ef770430bbf4819498ff98e4f",
            "06b25af8b9784efba671f04501a49796",
            "2834d7c1259c49f8a276db2135cded1a",
            "d6d0e3d4249843c9b49cbcdcc607af27",
            "1c5aaf4c6bbf4e2e9e71249cec2e398f",
            "f035cc9b52f243779354a54b421d70ae"
          ]
        },
        "id": "d56f4YuM1mtn",
        "outputId": "46208ca9-ecee-4298-d83b-13230ea52197"
      },
      "outputs": [
        {
          "data": {
            "application/vnd.jupyter.widget-view+json": {
              "model_id": "fa34a934d66c4b9789802da2adc990a3",
              "version_major": 2,
              "version_minor": 0
            },
            "text/plain": [
              "Evaluating:   0%|          | 0/40 [00:00<?, ?it/s]"
            ]
          },
          "metadata": {},
          "output_type": "display_data"
        },
        {
          "name": "stdout",
          "output_type": "stream",
          "text": [
            "Accuracy:  76.01% \n"
          ]
        }
      ],
      "source": [
        "labels, probs = get_predictions(model, test_iterator, device)"
      ]
    },
    {
      "cell_type": "code",
      "execution_count": null,
      "metadata": {
        "id": "D4MwRTwk1n89"
      },
      "outputs": [],
      "source": [
        "pred_labels = torch.argmax(probs, 1)"
      ]
    },
    {
      "cell_type": "code",
      "execution_count": null,
      "metadata": {
        "id": "LDMamip01p0Z"
      },
      "outputs": [],
      "source": [
        "def plot_confusion_matrix(labels, pred_labels, classes):\n",
        "\n",
        "    fig = plt.figure(figsize = (10, 10));\n",
        "    ax = fig.add_subplot(1, 1, 1);\n",
        "    cm = confusion_matrix(labels, pred_labels);\n",
        "    cm = ConfusionMatrixDisplay(cm, display_labels = classes);\n",
        "    cm.plot(values_format = 'd', cmap = 'Blues', ax = ax)\n",
        "    plt.xticks(rotation = 20)"
      ]
    },
    {
      "cell_type": "code",
      "execution_count": null,
      "metadata": {
        "colab": {
          "base_uri": "https://localhost:8080/",
          "height": 815
        },
        "id": "bZsIeG2V1wBP",
        "outputId": "1b53119c-1dc5-43d1-9d64-3f23e5d94c31"
      },
      "outputs": [
        {
          "data": {
            "image/png": "[encoded data removed]",
            "text/plain": [
              "<Figure size 1000x1000 with 2 Axes>"
            ]
          },
          "metadata": {},
          "output_type": "display_data"
        }
      ],
      "source": [
        "plot_confusion_matrix(labels.cpu(), pred_labels.cpu(), classes)"
      ]
    }
  ],
  "metadata": {
    "accelerator": "GPU",
    "colab": {
      "machine_shape": "hm",
      "provenance": []
    },
    "kernelspec": {
      "display_name": "Python 3",
      "language": "python",
      "name": "python3"
    },
    "language_info": {
      "codemirror_mode": {
        "name": "ipython",
        "version": 3
      },
      "file_extension": ".py",
      "mimetype": "text/x-python",
      "name": "python",
      "nbconvert_exporter": "python",
      "pygments_lexer": "ipython3",
      "version": "3.8.3"
    },
    "widgets": {
      "application/vnd.jupyter.widget-state+json": {
        "06b25af8b9784efba671f04501a49796": {
          "model_module": "@jupyter-widgets/controls",
          "model_module_version": "1.5.0",
          "model_name": "DescriptionStyleModel",
          "state": {
            "_model_module": "@jupyter-widgets/controls",
            "_model_module_version": "1.5.0",
            "_model_name": "DescriptionStyleModel",
            "_view_count": null,
            "_view_module": "@jupyter-widgets/base",
            "_view_module_version": "1.2.0",
            "_view_name": "StyleView",
            "description_width": ""
          }
        },
        "113a55084d504b8a8cc9c70480036707": {
          "model_module": "@jupyter-widgets/controls",
          "model_module_version": "1.5.0",
          "model_name": "FloatProgressModel",
          "state": {
            "_dom_classes": [],
            "_model_module": "@jupyter-widgets/controls",
            "_model_module_version": "1.5.0",
            "_model_name": "FloatProgressModel",
            "_view_count": null,
            "_view_module": "@jupyter-widgets/controls",
            "_view_module_version": "1.5.0",
            "_view_name": "ProgressView",
            "bar_style": "",
            "description": "",
            "description_tooltip": null,
            "layout": "IPY_MODEL_2834d7c1259c49f8a276db2135cded1a",
            "max": 40,
            "min": 0,
            "orientation": "horizontal",
            "style": "IPY_MODEL_d6d0e3d4249843c9b49cbcdcc607af27",
            "value": 40
          }
        },
        "15fb5d7717ea40a99547a1aef1dedfa0": {
          "model_module": "@jupyter-widgets/controls",
          "model_module_version": "1.5.0",
          "model_name": "HTMLModel",
          "state": {
            "_dom_classes": [],
            "_model_module": "@jupyter-widgets/controls",
            "_model_module_version": "1.5.0",
            "_model_name": "HTMLModel",
            "_view_count": null,
            "_view_module": "@jupyter-widgets/controls",
            "_view_module_version": "1.5.0",
            "_view_name": "HTMLView",
            "description": "",
            "description_tooltip": null,
            "layout": "IPY_MODEL_1f79dd1f57894506845b5d9a948501b6",
            "placeholder": "​",
            "style": "IPY_MODEL_59732646ced94b7da14f6860cf24cade",
            "value": "Epochs: 100%"
          }
        },
        "1c5aaf4c6bbf4e2e9e71249cec2e398f": {
          "model_module": "@jupyter-widgets/base",
          "model_module_version": "1.2.0",
          "model_name": "LayoutModel",
          "state": {
            "_model_module": "@jupyter-widgets/base",
            "_model_module_version": "1.2.0",
            "_model_name": "LayoutModel",
            "_view_count": null,
            "_view_module": "@jupyter-widgets/base",
            "_view_module_version": "1.2.0",
            "_view_name": "LayoutView",
            "align_content": null,
            "align_items": null,
            "align_self": null,
            "border": null,
            "bottom": null,
            "display": null,
            "flex": null,
            "flex_flow": null,
            "grid_area": null,
            "grid_auto_columns": null,
            "grid_auto_flow": null,
            "grid_auto_rows": null,
            "grid_column": null,
            "grid_gap": null,
            "grid_row": null,
            "grid_template_areas": null,
            "grid_template_columns": null,
            "grid_template_rows": null,
            "height": null,
            "justify_content": null,
            "justify_items": null,
            "left": null,
            "margin": null,
            "max_height": null,
            "max_width": null,
            "min_height": null,
            "min_width": null,
            "object_fit": null,
            "object_position": null,
            "order": null,
            "overflow": null,
            "overflow_x": null,
            "overflow_y": null,
            "padding": null,
            "right": null,
            "top": null,
            "visibility": null,
            "width": null
          }
        },
        "1f14a55ef770430bbf4819498ff98e4f": {
          "model_module": "@jupyter-widgets/base",
          "model_module_version": "1.2.0",
          "model_name": "LayoutModel",
          "state": {
            "_model_module": "@jupyter-widgets/base",
            "_model_module_version": "1.2.0",
            "_model_name": "LayoutModel",
            "_view_count": null,
            "_view_module": "@jupyter-widgets/base",
            "_view_module_version": "1.2.0",
            "_view_name": "LayoutView",
            "align_content": null,
            "align_items": null,
            "align_self": null,
            "border": null,
            "bottom": null,
            "display": null,
            "flex": null,
            "flex_flow": null,
            "grid_area": null,
            "grid_auto_columns": null,
            "grid_auto_flow": null,
            "grid_auto_rows": null,
            "grid_column": null,
            "grid_gap": null,
            "grid_row": null,
            "grid_template_areas": null,
            "grid_template_columns": null,
            "grid_template_rows": null,
            "height": null,
            "justify_content": null,
            "justify_items": null,
            "left": null,
            "margin": null,
            "max_height": null,
            "max_width": null,
            "min_height": null,
            "min_width": null,
            "object_fit": null,
            "object_position": null,
            "order": null,
            "overflow": null,
            "overflow_x": null,
            "overflow_y": null,
            "padding": null,
            "right": null,
            "top": null,
            "visibility": null,
            "width": null
          }
        },
        "1f79dd1f57894506845b5d9a948501b6": {
          "model_module": "@jupyter-widgets/base",
          "model_module_version": "1.2.0",
          "model_name": "LayoutModel",
          "state": {
            "_model_module": "@jupyter-widgets/base",
            "_model_module_version": "1.2.0",
            "_model_name": "LayoutModel",
            "_view_count": null,
            "_view_module": "@jupyter-widgets/base",
            "_view_module_version": "1.2.0",
            "_view_name": "LayoutView",
            "align_content": null,
            "align_items": null,
            "align_self": null,
            "border": null,
            "bottom": null,
            "display": null,
            "flex": null,
            "flex_flow": null,
            "grid_area": null,
            "grid_auto_columns": null,
            "grid_auto_flow": null,
            "grid_auto_rows": null,
            "grid_column": null,
            "grid_gap": null,
            "grid_row": null,
            "grid_template_areas": null,
            "grid_template_columns": null,
            "grid_template_rows": null,
            "height": null,
            "justify_content": null,
            "justify_items": null,
            "left": null,
            "margin": null,
            "max_height": null,
            "max_width": null,
            "min_height": null,
            "min_width": null,
            "object_fit": null,
            "object_position": null,
            "order": null,
            "overflow": null,
            "overflow_x": null,
            "overflow_y": null,
            "padding": null,
            "right": null,
            "top": null,
            "visibility": null,
            "width": null
          }
        },
        "2834d7c1259c49f8a276db2135cded1a": {
          "model_module": "@jupyter-widgets/base",
          "model_module_version": "1.2.0",
          "model_name": "LayoutModel",
          "state": {
            "_model_module": "@jupyter-widgets/base",
            "_model_module_version": "1.2.0",
            "_model_name": "LayoutModel",
            "_view_count": null,
            "_view_module": "@jupyter-widgets/base",
            "_view_module_version": "1.2.0",
            "_view_name": "LayoutView",
            "align_content": null,
            "align_items": null,
            "align_self": null,
            "border": null,
            "bottom": null,
            "display": null,
            "flex": null,
            "flex_flow": null,
            "grid_area": null,
            "grid_auto_columns": null,
            "grid_auto_flow": null,
            "grid_auto_rows": null,
            "grid_column": null,
            "grid_gap": null,
            "grid_row": null,
            "grid_template_areas": null,
            "grid_template_columns": null,
            "grid_template_rows": null,
            "height": null,
            "justify_content": null,
            "justify_items": null,
            "left": null,
            "margin": null,
            "max_height": null,
            "max_width": null,
            "min_height": null,
            "min_width": null,
            "object_fit": null,
            "object_position": null,
            "order": null,
            "overflow": null,
            "overflow_x": null,
            "overflow_y": null,
            "padding": null,
            "right": null,
            "top": null,
            "visibility": null,
            "width": null
          }
        },
        "29d08467e94744ee9415fc583b193cbe": {
          "model_module": "@jupyter-widgets/controls",
          "model_module_version": "1.5.0",
          "model_name": "DescriptionStyleModel",
          "state": {
            "_model_module": "@jupyter-widgets/controls",
            "_model_module_version": "1.5.0",
            "_model_name": "DescriptionStyleModel",
            "_view_count": null,
            "_view_module": "@jupyter-widgets/base",
            "_view_module_version": "1.2.0",
            "_view_name": "StyleView",
            "description_width": ""
          }
        },
        "3011be9accc14c6c8b5569297f942fe2": {
          "model_module": "@jupyter-widgets/base",
          "model_module_version": "1.2.0",
          "model_name": "LayoutModel",
          "state": {
            "_model_module": "@jupyter-widgets/base",
            "_model_module_version": "1.2.0",
            "_model_name": "LayoutModel",
            "_view_count": null,
            "_view_module": "@jupyter-widgets/base",
            "_view_module_version": "1.2.0",
            "_view_name": "LayoutView",
            "align_content": null,
            "align_items": null,
            "align_self": null,
            "border": null,
            "bottom": null,
            "display": null,
            "flex": null,
            "flex_flow": null,
            "grid_area": null,
            "grid_auto_columns": null,
            "grid_auto_flow": null,
            "grid_auto_rows": null,
            "grid_column": null,
            "grid_gap": null,
            "grid_row": null,
            "grid_template_areas": null,
            "grid_template_columns": null,
            "grid_template_rows": null,
            "height": null,
            "justify_content": null,
            "justify_items": null,
            "left": null,
            "margin": null,
            "max_height": null,
            "max_width": null,
            "min_height": null,
            "min_width": null,
            "object_fit": null,
            "object_position": null,
            "order": null,
            "overflow": null,
            "overflow_x": null,
            "overflow_y": null,
            "padding": null,
            "right": null,
            "top": null,
            "visibility": null,
            "width": null
          }
        },
        "59732646ced94b7da14f6860cf24cade": {
          "model_module": "@jupyter-widgets/controls",
          "model_module_version": "1.5.0",
          "model_name": "DescriptionStyleModel",
          "state": {
            "_model_module": "@jupyter-widgets/controls",
            "_model_module_version": "1.5.0",
            "_model_name": "DescriptionStyleModel",
            "_view_count": null,
            "_view_module": "@jupyter-widgets/base",
            "_view_module_version": "1.2.0",
            "_view_name": "StyleView",
            "description_width": ""
          }
        },
        "6577172d3975435c933364f9150a0657": {
          "model_module": "@jupyter-widgets/base",
          "model_module_version": "1.2.0",
          "model_name": "LayoutModel",
          "state": {
            "_model_module": "@jupyter-widgets/base",
            "_model_module_version": "1.2.0",
            "_model_name": "LayoutModel",
            "_view_count": null,
            "_view_module": "@jupyter-widgets/base",
            "_view_module_version": "1.2.0",
            "_view_name": "LayoutView",
            "align_content": null,
            "align_items": null,
            "align_self": null,
            "border": null,
            "bottom": null,
            "display": null,
            "flex": null,
            "flex_flow": null,
            "grid_area": null,
            "grid_auto_columns": null,
            "grid_auto_flow": null,
            "grid_auto_rows": null,
            "grid_column": null,
            "grid_gap": null,
            "grid_row": null,
            "grid_template_areas": null,
            "grid_template_columns": null,
            "grid_template_rows": null,
            "height": null,
            "justify_content": null,
            "justify_items": null,
            "left": null,
            "margin": null,
            "max_height": null,
            "max_width": null,
            "min_height": null,
            "min_width": null,
            "object_fit": null,
            "object_position": null,
            "order": null,
            "overflow": null,
            "overflow_x": null,
            "overflow_y": null,
            "padding": null,
            "right": null,
            "top": null,
            "visibility": "hidden",
            "width": null
          }
        },
        "6e82f257241044d3b219b751fc8db706": {
          "model_module": "@jupyter-widgets/base",
          "model_module_version": "1.2.0",
          "model_name": "LayoutModel",
          "state": {
            "_model_module": "@jupyter-widgets/base",
            "_model_module_version": "1.2.0",
            "_model_name": "LayoutModel",
            "_view_count": null,
            "_view_module": "@jupyter-widgets/base",
            "_view_module_version": "1.2.0",
            "_view_name": "LayoutView",
            "align_content": null,
            "align_items": null,
            "align_self": null,
            "border": null,
            "bottom": null,
            "display": null,
            "flex": null,
            "flex_flow": null,
            "grid_area": null,
            "grid_auto_columns": null,
            "grid_auto_flow": null,
            "grid_auto_rows": null,
            "grid_column": null,
            "grid_gap": null,
            "grid_row": null,
            "grid_template_areas": null,
            "grid_template_columns": null,
            "grid_template_rows": null,
            "height": null,
            "justify_content": null,
            "justify_items": null,
            "left": null,
            "margin": null,
            "max_height": null,
            "max_width": null,
            "min_height": null,
            "min_width": null,
            "object_fit": null,
            "object_position": null,
            "order": null,
            "overflow": null,
            "overflow_x": null,
            "overflow_y": null,
            "padding": null,
            "right": null,
            "top": null,
            "visibility": null,
            "width": null
          }
        },
        "7a94d6ea983a40feb25bc1d0e89abc0c": {
          "model_module": "@jupyter-widgets/controls",
          "model_module_version": "1.5.0",
          "model_name": "HBoxModel",
          "state": {
            "_dom_classes": [],
            "_model_module": "@jupyter-widgets/controls",
            "_model_module_version": "1.5.0",
            "_model_name": "HBoxModel",
            "_view_count": null,
            "_view_module": "@jupyter-widgets/controls",
            "_view_module_version": "1.5.0",
            "_view_name": "HBoxView",
            "box_style": "",
            "children": [
              "IPY_MODEL_15fb5d7717ea40a99547a1aef1dedfa0",
              "IPY_MODEL_e38983e45b0048218535f5136f2f8831",
              "IPY_MODEL_b4372499a1c44a7a879c79cb0283ddb2"
            ],
            "layout": "IPY_MODEL_3011be9accc14c6c8b5569297f942fe2"
          }
        },
        "a2fc8ac60df743d6bae4dc64df8ab9e6": {
          "model_module": "@jupyter-widgets/controls",
          "model_module_version": "1.5.0",
          "model_name": "HTMLModel",
          "state": {
            "_dom_classes": [],
            "_model_module": "@jupyter-widgets/controls",
            "_model_module_version": "1.5.0",
            "_model_name": "HTMLModel",
            "_view_count": null,
            "_view_module": "@jupyter-widgets/controls",
            "_view_module_version": "1.5.0",
            "_view_name": "HTMLView",
            "description": "",
            "description_tooltip": null,
            "layout": "IPY_MODEL_1f14a55ef770430bbf4819498ff98e4f",
            "placeholder": "​",
            "style": "IPY_MODEL_06b25af8b9784efba671f04501a49796",
            "value": "Evaluating:  98%"
          }
        },
        "b4372499a1c44a7a879c79cb0283ddb2": {
          "model_module": "@jupyter-widgets/controls",
          "model_module_version": "1.5.0",
          "model_name": "HTMLModel",
          "state": {
            "_dom_classes": [],
            "_model_module": "@jupyter-widgets/controls",
            "_model_module_version": "1.5.0",
            "_model_name": "HTMLModel",
            "_view_count": null,
            "_view_module": "@jupyter-widgets/controls",
            "_view_module_version": "1.5.0",
            "_view_name": "HTMLView",
            "description": "",
            "description_tooltip": null,
            "layout": "IPY_MODEL_d4c21ba002e6469c81fe8ae6ee3b2b18",
            "placeholder": "​",
            "style": "IPY_MODEL_29d08467e94744ee9415fc583b193cbe",
            "value": " 25/25 [13:27&lt;00:00, 31.74s/it]"
          }
        },
        "d136015999454c0a94bcd850f63c1137": {
          "model_module": "@jupyter-widgets/controls",
          "model_module_version": "1.5.0",
          "model_name": "HTMLModel",
          "state": {
            "_dom_classes": [],
            "_model_module": "@jupyter-widgets/controls",
            "_model_module_version": "1.5.0",
            "_model_name": "HTMLModel",
            "_view_count": null,
            "_view_module": "@jupyter-widgets/controls",
            "_view_module_version": "1.5.0",
            "_view_name": "HTMLView",
            "description": "",
            "description_tooltip": null,
            "layout": "IPY_MODEL_1c5aaf4c6bbf4e2e9e71249cec2e398f",
            "placeholder": "​",
            "style": "IPY_MODEL_f035cc9b52f243779354a54b421d70ae",
            "value": " 39/40 [00:02&lt;00:00, 15.86it/s]"
          }
        },
        "d4c21ba002e6469c81fe8ae6ee3b2b18": {
          "model_module": "@jupyter-widgets/base",
          "model_module_version": "1.2.0",
          "model_name": "LayoutModel",
          "state": {
            "_model_module": "@jupyter-widgets/base",
            "_model_module_version": "1.2.0",
            "_model_name": "LayoutModel",
            "_view_count": null,
            "_view_module": "@jupyter-widgets/base",
            "_view_module_version": "1.2.0",
            "_view_name": "LayoutView",
            "align_content": null,
            "align_items": null,
            "align_self": null,
            "border": null,
            "bottom": null,
            "display": null,
            "flex": null,
            "flex_flow": null,
            "grid_area": null,
            "grid_auto_columns": null,
            "grid_auto_flow": null,
            "grid_auto_rows": null,
            "grid_column": null,
            "grid_gap": null,
            "grid_row": null,
            "grid_template_areas": null,
            "grid_template_columns": null,
            "grid_template_rows": null,
            "height": null,
            "justify_content": null,
            "justify_items": null,
            "left": null,
            "margin": null,
            "max_height": null,
            "max_width": null,
            "min_height": null,
            "min_width": null,
            "object_fit": null,
            "object_position": null,
            "order": null,
            "overflow": null,
            "overflow_x": null,
            "overflow_y": null,
            "padding": null,
            "right": null,
            "top": null,
            "visibility": null,
            "width": null
          }
        },
        "d6d0e3d4249843c9b49cbcdcc607af27": {
          "model_module": "@jupyter-widgets/controls",
          "model_module_version": "1.5.0",
          "model_name": "ProgressStyleModel",
          "state": {
            "_model_module": "@jupyter-widgets/controls",
            "_model_module_version": "1.5.0",
            "_model_name": "ProgressStyleModel",
            "_view_count": null,
            "_view_module": "@jupyter-widgets/base",
            "_view_module_version": "1.2.0",
            "_view_name": "StyleView",
            "bar_color": null,
            "description_width": ""
          }
        },
        "e38983e45b0048218535f5136f2f8831": {
          "model_module": "@jupyter-widgets/controls",
          "model_module_version": "1.5.0",
          "model_name": "FloatProgressModel",
          "state": {
            "_dom_classes": [],
            "_model_module": "@jupyter-widgets/controls",
            "_model_module_version": "1.5.0",
            "_model_name": "FloatProgressModel",
            "_view_count": null,
            "_view_module": "@jupyter-widgets/controls",
            "_view_module_version": "1.5.0",
            "_view_name": "ProgressView",
            "bar_style": "success",
            "description": "",
            "description_tooltip": null,
            "layout": "IPY_MODEL_6e82f257241044d3b219b751fc8db706",
            "max": 25,
            "min": 0,
            "orientation": "horizontal",
            "style": "IPY_MODEL_fd747c0a190346829e35abfce635c0fb",
            "value": 25
          }
        },
        "f035cc9b52f243779354a54b421d70ae": {
          "model_module": "@jupyter-widgets/controls",
          "model_module_version": "1.5.0",
          "model_name": "DescriptionStyleModel",
          "state": {
            "_model_module": "@jupyter-widgets/controls",
            "_model_module_version": "1.5.0",
            "_model_name": "DescriptionStyleModel",
            "_view_count": null,
            "_view_module": "@jupyter-widgets/base",
            "_view_module_version": "1.2.0",
            "_view_name": "StyleView",
            "description_width": ""
          }
        },
        "fa34a934d66c4b9789802da2adc990a3": {
          "model_module": "@jupyter-widgets/controls",
          "model_module_version": "1.5.0",
          "model_name": "HBoxModel",
          "state": {
            "_dom_classes": [],
            "_model_module": "@jupyter-widgets/controls",
            "_model_module_version": "1.5.0",
            "_model_name": "HBoxModel",
            "_view_count": null,
            "_view_module": "@jupyter-widgets/controls",
            "_view_module_version": "1.5.0",
            "_view_name": "HBoxView",
            "box_style": "",
            "children": [
              "IPY_MODEL_a2fc8ac60df743d6bae4dc64df8ab9e6",
              "IPY_MODEL_113a55084d504b8a8cc9c70480036707",
              "IPY_MODEL_d136015999454c0a94bcd850f63c1137"
            ],
            "layout": "IPY_MODEL_6577172d3975435c933364f9150a0657"
          }
        },
        "fd747c0a190346829e35abfce635c0fb": {
          "model_module": "@jupyter-widgets/controls",
          "model_module_version": "1.5.0",
          "model_name": "ProgressStyleModel",
          "state": {
            "_model_module": "@jupyter-widgets/controls",
            "_model_module_version": "1.5.0",
            "_model_name": "ProgressStyleModel",
            "_view_count": null,
            "_view_module": "@jupyter-widgets/base",
            "_view_module_version": "1.2.0",
            "_view_name": "StyleView",
            "bar_color": null,
            "description_width": ""
          }
        }
      }
    }
  },
  "nbformat": 4,
  "nbformat_minor": 0
}
